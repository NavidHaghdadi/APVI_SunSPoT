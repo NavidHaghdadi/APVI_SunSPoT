{
 "cells": [
  {
   "cell_type": "code",
   "execution_count": null,
   "metadata": {},
   "outputs": [],
   "source": [
    "import pandas as pd\n",
    "import ast\n",
    "\n",
    "import plotly # only necessary for plotting\n",
    "from plotly import tools # only necessary for plotting\n",
    "import plotly.graph_objs as go # only necessary for plotting\n",
    "from plotly.offline import download_plotlyjs, init_notebook_mode, plot, iplot # only necessary for plotting\n",
    "init_notebook_mode(connected=True) # only necessary for plotting"
   ]
  },
  {
   "cell_type": "code",
   "execution_count": null,
   "metadata": {},
   "outputs": [],
   "source": [
    "# reading PV file - if PV is in Navid's format (including 'â†µ' for new line)\n",
    "text_file = open(\"PV_Blacktown2.txt\", \"r\")\n",
    "x = text_file.readlines()\n",
    "x[0] = x[0].replace('â†µ', ' ')\n",
    "\n",
    "span = 2\n",
    "x2 = x[0].split(\" \")\n",
    "x3 = [\" \".join(x2[i:i+span]) for i in range(0, len(x2), span)]\n",
    "x4 = pd.DataFrame([sub.split(\",\") for sub in x3])\n",
    "\n",
    "PVOutput = x4.copy()\n",
    "PVOutput.columns = ['TS', 'PV']\n",
    "PVOutput.to_csv(\"PV_Blacktown2_processed.csv\",index=False)"
   ]
  },
  {
   "cell_type": "code",
   "execution_count": null,
   "metadata": {},
   "outputs": [],
   "source": [
    "# reading PV file - if PV is in Phoebe's format (including \\n for new line)\n",
    "PVOutput=pd.read_csv('PV_Coogee1.txt',header=None)\n",
    "PVOutput.columns = ['TS', 'PV']\n",
    "PVOutput.to_csv(\"PV_Coogee1_processed.csv\",index=False)"
   ]
  },
  {
   "cell_type": "code",
   "execution_count": null,
   "metadata": {},
   "outputs": [],
   "source": [
    "# reading load file\n",
    "load_text_file = open(\"LP_Blacktown1_python3.txt\", \"r\")\n",
    "x = load_text_file.readlines()\n",
    "b = ast.literal_eval(x[0])\n",
    "x2 = pd.DataFrame(b)\n",
    "if x2.shape[1] == 2:\n",
    "    x2.columns = ['TS_Epoch', 'kWh']\n",
    "if x2.shape[1] == 3:\n",
    "    x2.columns = ['TS_Epoch', 'kWh', 'kW']\n",
    "elif x2.shape[1] == 4:\n",
    "    x2.columns = ['TS_Epoch', 'kWh', 'kW', 'TOU']\n",
    "\n",
    "x2['TS'] = pd.to_datetime(x2['TS_Epoch'], unit='ms')\n",
    "\n",
    "LoadOutput = x2[['TS','kWh']].copy()\n",
    "LoadOutput.to_csv(\"LP_Blacktown1_python3_Processed.csv\",index=False)"
   ]
  },
  {
   "cell_type": "code",
   "execution_count": null,
   "metadata": {},
   "outputs": [],
   "source": [
    "LoadProf = pd.read_csv(\"LP_Blacktown1_Processed.csv\")\n",
    "python_load = pd.read_csv(\"LP_Blacktown1_python_Processed.csv\")\n",
    "python_load2 = pd.read_csv(\"LP_Blacktown1_python2_Processed.csv\")\n",
    "python_load3 = pd.read_csv(\"LP_Blacktown1_python3_Processed.csv\")\n",
    "\n",
    "LoadProf['TS']=pd.to_datetime(LoadProf['TS'], infer_datetime_format=True)\n",
    "python_load['TS']=pd.to_datetime(python_load['TS'], infer_datetime_format=True)\n",
    "python_load2['TS']=pd.to_datetime(python_load2['TS'], infer_datetime_format=True)\n",
    "python_load3['TS']=pd.to_datetime(python_load3['TS'], infer_datetime_format=True)\n",
    "\n",
    "fig = go.Figure()\n",
    "\n",
    "fig.add_trace(go.Scatter(x= LoadProf['TS'], y= LoadProf['kWh'],name='SunSPoT Load profile (kWh)', mode='lines'))\n",
    "\n",
    "fig.add_trace(go.Scatter(x= python_load['TS'], y= python_load['kWh'],name='Python Load profile (kWh)', mode='lines'))\n",
    "\n",
    "fig.add_trace(go.Scatter(x= python_load2['TS'], y= python_load2['kWh'],name='Python Load profile 2 (kWh)', mode='lines'))\n",
    "\n",
    "fig.add_trace(go.Scatter(x= python_load3['TS'], y= python_load3['kWh'],name='Python Load profile 3 (kWh)', mode='lines'))\n",
    "\n",
    "fig.update_layout(title='Load profile' ,xaxis=dict(title='Time'),yaxis=dict(title='Power (kWh)'))\n",
    "\n",
    "iplot(fig)"
   ]
  },
  {
   "cell_type": "code",
   "execution_count": null,
   "metadata": {},
   "outputs": [],
   "source": []
  }
 ],
 "metadata": {
  "kernelspec": {
   "display_name": "Python 3",
   "language": "python",
   "name": "python3"
  },
  "language_info": {
   "codemirror_mode": {
    "name": "ipython",
    "version": 3
   },
   "file_extension": ".py",
   "mimetype": "text/x-python",
   "name": "python",
   "nbconvert_exporter": "python",
   "pygments_lexer": "ipython3",
   "version": "3.7.3"
  }
 },
 "nbformat": 4,
 "nbformat_minor": 2
}
